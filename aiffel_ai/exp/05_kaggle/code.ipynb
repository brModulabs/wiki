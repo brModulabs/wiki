{
 "cells": [
  {
   "cell_type": "code",
   "execution_count": 3,
   "metadata": {},
   "outputs": [
    {
     "name": "stdout",
     "output_type": "stream",
     "text": [
      "--2022-01-18 11:20:32--  https://aiffelstaticprd.blob.core.windows.net/media/documents/kaggle-kakr-housing-data.zip\n",
      "aiffelstaticprd.blob.core.windows.net (aiffelstaticprd.blob.core.windows.net)을(를) 해석하는 중... 52.239.148.4\n",
      "접속 aiffelstaticprd.blob.core.windows.net (aiffelstaticprd.blob.core.windows.net)|52.239.148.4|:443... 접속됨.\n",
      "HTTP 요청을 전송했습니다. 응답을 기다리는 중입니다... 200 OK\n",
      "길이: 693719 (677K) [application/zip]\n",
      "다음 위치에 저장: `kaggle-kakr-housing-data.zip'\n",
      "\n",
      "kaggle-kakr-housing 100%[===================>] 677.46K  --.-KB/s    / 0.07s    \n",
      "\n",
      "2022-01-18 11:20:33 (9.25 MB/s) - `kaggle-kakr-housing-data.zip' 저장됨 [693719/693719]\n",
      "\n",
      "Archive:  kaggle-kakr-housing-data.zip\n",
      "  inflating: data/sample_submission.csv  \n",
      "  inflating: data/test.csv           \n",
      "  inflating: data/train.csv          \n"
     ]
    }
   ],
   "source": [
    "# 데이터 세팅\n",
    "# !wget https://aiffelstaticprd.blob.core.windows.net/media/documents/kaggle-kakr-housing-data.zip\n",
    "# !unzip kaggle-kakr-housing-data.zip"
   ]
  },
  {
   "cell_type": "code",
   "execution_count": null,
   "metadata": {},
   "outputs": [],
   "source": []
  }
 ],
 "metadata": {
  "interpreter": {
   "hash": "3d3cb06d7d2de2ec3a481bfbec5ae2b5de85412c963e75edf4458a55e268cc89"
  },
  "kernelspec": {
   "display_name": "Python 3.8.10 64-bit ('aiffel': venv)",
   "language": "python",
   "name": "python3"
  },
  "language_info": {
   "codemirror_mode": {
    "name": "ipython",
    "version": 3
   },
   "file_extension": ".py",
   "mimetype": "text/x-python",
   "name": "python",
   "nbconvert_exporter": "python",
   "pygments_lexer": "ipython3",
   "version": "3.8.10"
  },
  "orig_nbformat": 4
 },
 "nbformat": 4,
 "nbformat_minor": 2
}
